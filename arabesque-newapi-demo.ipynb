{
 "cells": [
  {
   "cell_type": "markdown",
   "metadata": {},
   "source": [
    "## Arabesque API\n",
    "\n",
    "[http://arabesque.io](http://arabesque.io)\n",
    "\n",
    "*Current Version:* 1.0.2-BETA\n",
    "\n",
    "Arabesque is a distributed graph mining system that enables quick and easy\n",
    "development of graph mining algorithms, while providing a scalable and efficient\n",
    "execution engine running on top of Hadoop.\n",
    "\n",
    "Benefits of Arabesque:\n",
    "* Simple and intuitive API, specially tailored for Graph Mining algorithms.\n",
    "* Transparently handling of all complexities associated with these algorithms.\n",
    "* Scalable to hundreds of workers.\n",
    "* Efficient implementation: negligible overhead compared to equivalent centralized solutions.\n",
    "\n",
    "Arabesque is open-source with the Apache 2.0 license."
   ]
  },
  {
   "cell_type": "code",
   "execution_count": 3,
   "metadata": {
    "collapsed": false
   },
   "outputs": [
    {
     "name": "stdout",
     "output_type": "stream",
     "text": [
      "spark application ID: local-1466351689305\n",
      "arabesque context = io.arabesque.ArabesqueContext@512b4e8b\n",
      "localPath = /home/viniciusvdias/environments/Arabesque/data/citeseer-single-label.graph\n",
      "arabesque graph = io.arabesque.ArabesqueGraph@20bfec54\n",
      "arabesque result = ArabesqueResult(org.apache.spark.SparkContext@410c64f0,SparkConfiguration(Map(arabesque.computation.class -> io.arabesque.gmlib.motif.MotifComputation, arabesque.output.path -> /tmp/arabesque-eded5f5f-27cc-41c6-aec9-c84a2bd9cc3a/graph-22eb0f8a-56ac-45f1-b72f-e2686eddf55f/motifs-ff13727e-fd93-4e3a-9545-6241dcf350c1, comm_ss -> embedding, arabesque.motif.maxsize -> 3, arabesque.graph.location -> /home/viniciusvdias/environments/Arabesque/data/citeseer-single-label.graph, arabesque.graph.local -> false, agg_ic -> true)))\n",
      "null\n",
      "/tmp/arabesque-eded5f5f-27cc-41c6-aec9-c84a2bd9cc3a/graph-22eb0f8a-56ac-45f1-b72f-e2686eddf55f/motifs-ff13727e-fd93-4e3a-9545-6241dcf350c1\n",
      "two sample embeddings:\n",
      "VEmbedding(477, 2427, 2785)\n",
      "VEmbedding(477, 2427, 2928)\n",
      "aggKeys = motifs\n",
      "Map([0,1-1,1],[1,1-2,1],[0,1-2,1] -> 1166, [1,1-2,1],[0,1-2,1] -> 23380)\n",
      "Map(motifs -> Map([0,1-1,1],[1,1-2,1],[0,1-2,1] -> 1166, [1,1-2,1],[0,1-2,1] -> 23380))\n"
     ]
    }
   ],
   "source": [
    "import io.arabesque.ArabesqueContext\n",
    "\n",
    "println (s\"spark application ID: ${sc.applicationId}\")\n",
    "\n",
    "// arabesque context is built on top of SparkContext\n",
    "val arab = new ArabesqueContext (sc)\n",
    "println (s\"arabesque context = ${arab}\")\n",
    "\n",
    "// get local path for the sample graph\n",
    "val localPath = s\"${System.getenv (\"ARABESQUE_HOME\")}/data/citeseer-single-label.graph\"\n",
    "println (s\"localPath = ${localPath}\")\n",
    "\n",
    "// several arabesque graphs are built on top of ArabesqueContext\n",
    "val arabGraph = arab.textFile (localPath)\n",
    "println (s\"arabesque graph = ${arabGraph}\")\n",
    "\n",
    "// generating motifs of size 3\n",
    "val motifs = arabGraph.motifs (3).set (\"agg_ic\", true).set (\"comm_ss\", \"embedding\")\n",
    "println (s\"arabesque result = ${motifs}\")\n",
    "\n",
    "println (motifs.config.getOutputPath)\n",
    "\n",
    "// embeddings RDD\n",
    "val embeddings = motifs.embeddings\n",
    "println (motifs.config.getOutputPath)\n",
    "println (s\"two sample embeddings:\\n${embeddings.take(2).mkString(\"\\n\")}\")\n",
    "\n",
    "// getting aggregations, one by one ()\n",
    "val aggKeys = motifs.registeredAggregations\n",
    "println (s\"aggKeys = ${aggKeys.mkString(\" \")}\")\n",
    "val motifsAgg = motifs.aggregation (aggKeys(0))\n",
    "println (motifsAgg)\n",
    "\n",
    "// getting all aggregations\n",
    "val allAggs = motifs.aggregations\n",
    "println (allAggs)\n",
    "\n",
    "arab.stop"
   ]
  }
 ],
 "metadata": {
  "celltoolbar": "Slideshow",
  "kernelspec": {
   "display_name": "arabesque_1.0.2",
   "language": "",
   "name": "arabesque_1.0.2"
  },
  "language_info": {
   "name": "scala"
  }
 },
 "nbformat": 4,
 "nbformat_minor": 0
}
