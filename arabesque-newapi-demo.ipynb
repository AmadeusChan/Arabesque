{
 "cells": [
  {
   "cell_type": "markdown",
   "metadata": {},
   "source": [
    "## Arabesque API\n",
    "\n",
    "[http://arabesque.io](http://arabesque.io)\n",
    "\n",
    "*Current Version:* 1.0.2-BETA\n",
    "\n",
    "Arabesque is a distributed graph mining system that enables quick and easy\n",
    "development of graph mining algorithms, while providing a scalable and efficient\n",
    "execution engine running on top of Hadoop.\n",
    "\n",
    "Benefits of Arabesque:\n",
    "* Simple and intuitive API, specially tailored for Graph Mining algorithms.\n",
    "* Transparently handling of all complexities associated with these algorithms.\n",
    "* Scalable to hundreds of workers.\n",
    "* Efficient implementation: negligible overhead compared to equivalent centralized solutions.\n",
    "\n",
    "Arabesque is open-source with the Apache 2.0 license."
   ]
  },
  {
   "cell_type": "code",
   "execution_count": 2,
   "metadata": {
    "collapsed": false
   },
   "outputs": [
    {
     "name": "stdout",
     "output_type": "stream",
     "text": [
      "spark application ID: local-1461450883972\n",
      "arabesque context = io.arabesque.ArabesqueContext@3d7d57e3\n",
      "localPath = /home/viniciusvdias/environments/Arabesque/data/citeseer-single-label.graph\n",
      "arabesque graph = io.arabesque.ArabesqueGraph@6d110a3b\n",
      "arabesque result = ArabesqueResult(org.apache.spark.SparkContext@76d1acf9,[sparkConf, mainGraphClass=null, embeddingClass=null, computationClass=null])\n",
      "null\n",
      "/tmp/arabesque-90ef2f1f-c0c0-48f0-956f-4f818199779b/graph-f0e64925-8aec-41ad-a632-236525b93f3a/motifs-457928c2-f810-4aa0-8c50-1138ba44e119\n",
      "two sample embeddings:\n",
      "VEmbedding(477, 2427, 2785)\n",
      "VEmbedding(477, 2427, 2928)\n"
     ]
    }
   ],
   "source": [
    "import io.arabesque.ArabesqueContext\n",
    "\n",
    "println (s\"spark application ID: ${sc.applicationId}\")\n",
    "\n",
    "// arabesque context is built on top of SparkContext\n",
    "val arab = new ArabesqueContext (sc)\n",
    "println (s\"arabesque context = ${arab}\")\n",
    "\n",
    "// get local path for the sample graph\n",
    "val localPath = s\"${System.getenv (\"ARABESQUE_HOME\")}/data/citeseer-single-label.graph\"\n",
    "println (s\"localPath = ${localPath}\")\n",
    "\n",
    "// several arabesque graphs are built on top of ArabesqueContext\n",
    "val arabGraph = arab.textFile (localPath)\n",
    "println (s\"arabesque graph = ${arabGraph}\")\n",
    "\n",
    "// generating motifs of size 3\n",
    "val motifs = arabGraph.motifs (3).set (\"agg_ic\", true).set (\"comm_ss\", \"embedding\")\n",
    "println (s\"arabesque result = ${motifs}\")\n",
    "\n",
    "println (motifs.config.getOutputPath)\n",
    "\n",
    "// embeddings RDD\n",
    "val embeddings = motifs.embeddings\n",
    "println (motifs.config.getOutputPath)\n",
    "println (s\"two sample embeddings:\\n${embeddings.take(2).mkString(\"\\n\")}\")\n",
    "arab.stop"
   ]
  }
 ],
 "metadata": {
  "celltoolbar": "Slideshow",
  "kernelspec": {
   "display_name": "arabesque_1.0.2",
   "language": "",
   "name": "arabesque_1.0.2"
  },
  "language_info": {
   "name": "scala"
  }
 },
 "nbformat": 4,
 "nbformat_minor": 0
}
